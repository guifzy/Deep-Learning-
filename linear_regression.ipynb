{
  "cells": [
    {
      "metadata": {
        "ExecuteTime": {
          "end_time": "2024-08-18T22:49:24.963669Z",
          "start_time": "2024-08-18T22:49:24.961730Z"
        },
        "colab": {
          "base_uri": "https://localhost:8080/"
        },
        "id": "47199f5aa4bb6ad4",
        "outputId": "1ea5f123-d44b-4c75-a885-4e655c626016"
      },
      "cell_type": "code",
      "source": [
        "!pip install ucimlrepo"
      ],
      "id": "47199f5aa4bb6ad4",
      "outputs": [
        {
          "output_type": "stream",
          "name": "stdout",
          "text": [
            "Collecting ucimlrepo\n",
            "  Downloading ucimlrepo-0.0.7-py3-none-any.whl.metadata (5.5 kB)\n",
            "Requirement already satisfied: pandas>=1.0.0 in /usr/local/lib/python3.11/dist-packages (from ucimlrepo) (2.2.2)\n",
            "Requirement already satisfied: certifi>=2020.12.5 in /usr/local/lib/python3.11/dist-packages (from ucimlrepo) (2025.1.31)\n",
            "Requirement already satisfied: numpy>=1.23.2 in /usr/local/lib/python3.11/dist-packages (from pandas>=1.0.0->ucimlrepo) (1.26.4)\n",
            "Requirement already satisfied: python-dateutil>=2.8.2 in /usr/local/lib/python3.11/dist-packages (from pandas>=1.0.0->ucimlrepo) (2.8.2)\n",
            "Requirement already satisfied: pytz>=2020.1 in /usr/local/lib/python3.11/dist-packages (from pandas>=1.0.0->ucimlrepo) (2025.1)\n",
            "Requirement already satisfied: tzdata>=2022.7 in /usr/local/lib/python3.11/dist-packages (from pandas>=1.0.0->ucimlrepo) (2025.1)\n",
            "Requirement already satisfied: six>=1.5 in /usr/local/lib/python3.11/dist-packages (from python-dateutil>=2.8.2->pandas>=1.0.0->ucimlrepo) (1.17.0)\n",
            "Downloading ucimlrepo-0.0.7-py3-none-any.whl (8.0 kB)\n",
            "Installing collected packages: ucimlrepo\n",
            "Successfully installed ucimlrepo-0.0.7\n"
          ]
        }
      ],
      "execution_count": null
    },
    {
      "cell_type": "code",
      "id": "initial_id",
      "metadata": {
        "collapsed": true,
        "ExecuteTime": {
          "end_time": "2024-08-19T11:18:28.280451Z",
          "start_time": "2024-08-19T11:18:25.773113Z"
        },
        "id": "initial_id"
      },
      "source": [
        "import pandas as pd\n",
        "import numpy as np\n",
        "import torch\n",
        "import torch.nn as nn\n",
        "import torch.optim as optim\n",
        "from sklearn.model_selection import train_test_split\n",
        "from sklearn.preprocessing import StandardScaler\n",
        "from ucimlrepo import fetch_ucirepo"
      ],
      "outputs": [],
      "execution_count": null
    },
    {
      "metadata": {
        "ExecuteTime": {
          "end_time": "2024-08-19T11:18:57.820822Z",
          "start_time": "2024-08-19T11:18:35.012368Z"
        },
        "id": "5b7c8ca973d33939"
      },
      "cell_type": "code",
      "source": [
        "# fetch dataset\n",
        "wine_quality = fetch_ucirepo(id=186)"
      ],
      "id": "5b7c8ca973d33939",
      "outputs": [],
      "execution_count": null
    },
    {
      "metadata": {
        "ExecuteTime": {
          "end_time": "2024-08-19T11:18:57.833165Z",
          "start_time": "2024-08-19T11:18:57.829219Z"
        },
        "id": "e8cf735f1c6b0e4e"
      },
      "cell_type": "code",
      "source": [
        "# Convertendo os dados para um DataFrame\n",
        "df = pd.concat([wine_quality.data.features, wine_quality.data.targets], axis=1)"
      ],
      "id": "e8cf735f1c6b0e4e",
      "outputs": [],
      "execution_count": null
    },
    {
      "metadata": {
        "ExecuteTime": {
          "end_time": "2024-08-19T11:18:57.910690Z",
          "start_time": "2024-08-19T11:18:57.899642Z"
        },
        "colab": {
          "base_uri": "https://localhost:8080/",
          "height": 335
        },
        "id": "54c0ccda2270d135",
        "outputId": "fe75036c-39f5-41ae-806f-452001bf833d"
      },
      "cell_type": "code",
      "source": [
        "df['quality'].value_counts()"
      ],
      "id": "54c0ccda2270d135",
      "outputs": [
        {
          "output_type": "execute_result",
          "data": {
            "text/plain": [
              "quality\n",
              "6    2836\n",
              "5    2138\n",
              "7    1079\n",
              "4     216\n",
              "8     193\n",
              "3      30\n",
              "9       5\n",
              "Name: count, dtype: int64"
            ],
            "text/html": [
              "<div>\n",
              "<style scoped>\n",
              "    .dataframe tbody tr th:only-of-type {\n",
              "        vertical-align: middle;\n",
              "    }\n",
              "\n",
              "    .dataframe tbody tr th {\n",
              "        vertical-align: top;\n",
              "    }\n",
              "\n",
              "    .dataframe thead th {\n",
              "        text-align: right;\n",
              "    }\n",
              "</style>\n",
              "<table border=\"1\" class=\"dataframe\">\n",
              "  <thead>\n",
              "    <tr style=\"text-align: right;\">\n",
              "      <th></th>\n",
              "      <th>count</th>\n",
              "    </tr>\n",
              "    <tr>\n",
              "      <th>quality</th>\n",
              "      <th></th>\n",
              "    </tr>\n",
              "  </thead>\n",
              "  <tbody>\n",
              "    <tr>\n",
              "      <th>6</th>\n",
              "      <td>2836</td>\n",
              "    </tr>\n",
              "    <tr>\n",
              "      <th>5</th>\n",
              "      <td>2138</td>\n",
              "    </tr>\n",
              "    <tr>\n",
              "      <th>7</th>\n",
              "      <td>1079</td>\n",
              "    </tr>\n",
              "    <tr>\n",
              "      <th>4</th>\n",
              "      <td>216</td>\n",
              "    </tr>\n",
              "    <tr>\n",
              "      <th>8</th>\n",
              "      <td>193</td>\n",
              "    </tr>\n",
              "    <tr>\n",
              "      <th>3</th>\n",
              "      <td>30</td>\n",
              "    </tr>\n",
              "    <tr>\n",
              "      <th>9</th>\n",
              "      <td>5</td>\n",
              "    </tr>\n",
              "  </tbody>\n",
              "</table>\n",
              "</div><br><label><b>dtype:</b> int64</label>"
            ]
          },
          "metadata": {},
          "execution_count": 9
        }
      ],
      "execution_count": null
    },
    {
      "cell_type": "code",
      "source": [
        "import matplotlib.pyplot as plt\n",
        "from sklearn.linear_model import LinearRegression"
      ],
      "metadata": {
        "id": "Tn991fQ54XL5"
      },
      "id": "Tn991fQ54XL5",
      "execution_count": null,
      "outputs": []
    },
    {
      "cell_type": "code",
      "source": [
        "# Simulando os dados localmente para demonstrar o gráfico de regressão linear\n",
        "# Criando um dataset simulado com base em uma distribuição semelhante\n",
        "np.random.seed(42)\n",
        "n_samples = 1000\n",
        "alcohol = np.random.normal(10, 1.5, n_samples)  # Simulando dados de teor alcoólico\n",
        "quality = 3 + 0.4 * alcohol + np.random.normal(0, 0.5, n_samples)  # Qualidade com um pouco de ruído\n",
        "\n",
        "# Ajustando a regressão linear usando o dataset simulado\n",
        "X_simulated = alcohol.reshape(-1, 1)\n",
        "y_simulated = quality\n",
        "model_simulated = LinearRegression()\n",
        "model_simulated.fit(X_simulated, y_simulated)\n",
        "y_pred_simulated = model_simulated.predict(X_simulated)\n",
        "\n",
        "# Plotando o gráfico de regressão linear com dados simulados\n",
        "plt.figure(figsize=(12, 6))\n",
        "plt.scatter(alcohol, quality, alpha=0.5, label='Data Points')\n",
        "plt.plot(alcohol, y_pred_simulated, color='red', label='Linear Regression Line')\n",
        "plt.xlabel('Alcohol Content')\n",
        "plt.ylabel('Quality')\n",
        "plt.title('Linear Regression: Alcohol Content vs Simulated Wine Quality')\n",
        "plt.legend()\n",
        "plt.show()"
      ],
      "metadata": {
        "colab": {
          "base_uri": "https://localhost:8080/",
          "height": 458
        },
        "id": "8nDW1t674q4M",
        "outputId": "c02b6780-b429-4663-ffe4-58179260330a"
      },
      "id": "8nDW1t674q4M",
      "execution_count": null,
      "outputs": [
        {
          "output_type": "display_data",
          "data": {
            "text/plain": [
              "<Figure size 1200x600 with 1 Axes>"
            ],
            "image/png": "[encoded data removed]"
          },
          "metadata": {}
        }
      ]
    },
    {
      "metadata": {
        "ExecuteTime": {
          "end_time": "2024-08-19T11:18:57.974342Z",
          "start_time": "2024-08-19T11:18:57.969277Z"
        },
        "id": "223f5473217982d8"
      },
      "cell_type": "code",
      "source": [
        "# 2. Preparação dos dados\n",
        "X = df.drop('quality', axis=1).values  # Todas as colunas exceto 'quality' são características\n",
        "y = df['quality'].values  # A coluna 'quality' é a variável alvo"
      ],
      "id": "223f5473217982d8",
      "outputs": [],
      "execution_count": null
    },
    {
      "metadata": {
        "ExecuteTime": {
          "end_time": "2024-08-19T11:20:07.019574Z",
          "start_time": "2024-08-19T11:20:07.012737Z"
        },
        "id": "7422d867f9686f42",
        "outputId": "3e3ac914-c9b9-455a-b4b2-f4cec880cd37"
      },
      "cell_type": "code",
      "source": [
        "X"
      ],
      "id": "7422d867f9686f42",
      "outputs": [
        {
          "data": {
            "text/plain": [
              "array([[ 7.4 ,  0.7 ,  0.  , ...,  3.51,  0.56,  9.4 ],\n",
              "       [ 7.8 ,  0.88,  0.  , ...,  3.2 ,  0.68,  9.8 ],\n",
              "       [ 7.8 ,  0.76,  0.04, ...,  3.26,  0.65,  9.8 ],\n",
              "       ...,\n",
              "       [ 6.5 ,  0.24,  0.19, ...,  2.99,  0.46,  9.4 ],\n",
              "       [ 5.5 ,  0.29,  0.3 , ...,  3.34,  0.38, 12.8 ],\n",
              "       [ 6.  ,  0.21,  0.38, ...,  3.26,  0.32, 11.8 ]])"
            ]
          },
          "execution_count": 8,
          "metadata": {},
          "output_type": "execute_result"
        }
      ],
      "execution_count": null
    },
    {
      "cell_type": "markdown",
      "source": [
        "# Rede"
      ],
      "metadata": {
        "id": "qhq0CIOX6H3f"
      },
      "id": "qhq0CIOX6H3f"
    },
    {
      "metadata": {
        "ExecuteTime": {
          "end_time": "2024-08-18T22:59:51.812269Z",
          "start_time": "2024-08-18T22:59:51.808424Z"
        },
        "id": "fe03e4b3cf8306fe"
      },
      "cell_type": "code",
      "source": [
        "# Dividindo os dados em conjuntos de treinamento e teste\n",
        "X_train, X_test, y_train, y_test = train_test_split(X, y, test_size=0.2, random_state=42)\n"
      ],
      "id": "fe03e4b3cf8306fe",
      "outputs": [],
      "execution_count": null
    },
    {
      "metadata": {
        "ExecuteTime": {
          "end_time": "2024-08-18T22:59:54.884967Z",
          "start_time": "2024-08-18T22:59:54.879221Z"
        },
        "id": "1348e85033e01960"
      },
      "cell_type": "code",
      "source": [
        "# Normalizando os dados\n",
        "scaler = StandardScaler()\n",
        "X_train = scaler.fit_transform(X_train)\n",
        "X_test = scaler.transform(X_test)"
      ],
      "id": "1348e85033e01960",
      "outputs": [],
      "execution_count": null
    },
    {
      "metadata": {
        "ExecuteTime": {
          "end_time": "2024-08-18T23:00:08.042767Z",
          "start_time": "2024-08-18T23:00:08.037686Z"
        },
        "id": "95974d2c6f4ec9d9"
      },
      "cell_type": "code",
      "source": [
        "# Convertendo para tensores PyTorch\n",
        "X_train_tensor = torch.tensor(X_train, dtype=torch.float32)\n",
        "y_train_tensor = torch.tensor(y_train, dtype=torch.float32).view(-1, 1)\n",
        "X_test_tensor = torch.tensor(X_test, dtype=torch.float32)\n",
        "y_test_tensor = torch.tensor(y_test, dtype=torch.float32).view(-1, 1)"
      ],
      "id": "95974d2c6f4ec9d9",
      "outputs": [],
      "execution_count": null
    },
    {
      "metadata": {
        "ExecuteTime": {
          "end_time": "2024-08-18T23:00:09.126804Z",
          "start_time": "2024-08-18T23:00:09.121996Z"
        },
        "id": "e525a0192f6358bc"
      },
      "cell_type": "code",
      "source": [
        "# 3. Construir a rede neural\n",
        "class WineQualityNN(nn.Module):\n",
        "    def __init__(self):\n",
        "        super(WineQualityNN, self).__init__()\n",
        "        self.fc1 = nn.Linear(X_train.shape[1], 128)\n",
        "        self.fc2 = nn.Linear(128, 64)\n",
        "        self.fc3 = nn.Linear(64, 1)\n",
        "\n",
        "    def forward(self, x):\n",
        "        x = torch.relu(self.fc1(x))\n",
        "        x = torch.relu(self.fc2(x))\n",
        "        x = self.fc3(x)\n",
        "        return x"
      ],
      "id": "e525a0192f6358bc",
      "outputs": [],
      "execution_count": null
    },
    {
      "metadata": {
        "ExecuteTime": {
          "end_time": "2024-08-18T23:00:10.703086Z",
          "start_time": "2024-08-18T23:00:10.698242Z"
        },
        "id": "5e1d7b2860defb53"
      },
      "cell_type": "code",
      "source": [
        "# Instanciar o modelo\n",
        "model = WineQualityNN()"
      ],
      "id": "5e1d7b2860defb53",
      "outputs": [],
      "execution_count": null
    },
    {
      "metadata": {
        "ExecuteTime": {
          "end_time": "2024-08-18T23:00:11.958694Z",
          "start_time": "2024-08-18T23:00:11.572997Z"
        },
        "id": "b224caf97426d5f0"
      },
      "cell_type": "code",
      "source": [
        "# Definir a função de perda e o otimizador\n",
        "criterion = nn.MSELoss()  # Usando MSE porque estamos tratando a qualidade como uma variável contínua\n",
        "optimizer = optim.Adam(model.parameters(), lr=0.001)"
      ],
      "id": "b224caf97426d5f0",
      "outputs": [],
      "execution_count": null
    },
    {
      "metadata": {
        "ExecuteTime": {
          "end_time": "2024-08-18T23:00:14.845503Z",
          "start_time": "2024-08-18T23:00:12.764084Z"
        },
        "id": "81662ee5f08ff57a",
        "outputId": "84b0e076-cd78-4a55-e1df-4eb0c9268117"
      },
      "cell_type": "code",
      "source": [
        "# 4. Treinamento do modelo\n",
        "num_epochs = 50\n",
        "for epoch in range(num_epochs):\n",
        "    model.train()\n",
        "\n",
        "    # Forward pass\n",
        "    outputs = model(X_train_tensor)\n",
        "    loss = criterion(outputs, y_train_tensor)\n",
        "\n",
        "    # Backward pass and optimization\n",
        "    optimizer.zero_grad()\n",
        "    loss.backward()\n",
        "    optimizer.step()\n",
        "\n",
        "    print(f'Epoch [{epoch+1}/{num_epochs}], Loss: {loss.item():.4f}')"
      ],
      "id": "81662ee5f08ff57a",
      "outputs": [
        {
          "name": "stdout",
          "output_type": "stream",
          "text": [
            "Epoch [1/50], Loss: 33.1677\n",
            "Epoch [2/50], Loss: 32.4250\n",
            "Epoch [3/50], Loss: 31.7007\n",
            "Epoch [4/50], Loss: 30.9907\n",
            "Epoch [5/50], Loss: 30.2900\n",
            "Epoch [6/50], Loss: 29.5937\n",
            "Epoch [7/50], Loss: 28.8958\n",
            "Epoch [8/50], Loss: 28.1919\n",
            "Epoch [9/50], Loss: 27.4777\n",
            "Epoch [10/50], Loss: 26.7501\n",
            "Epoch [11/50], Loss: 26.0076\n",
            "Epoch [12/50], Loss: 25.2484\n",
            "Epoch [13/50], Loss: 24.4710\n",
            "Epoch [14/50], Loss: 23.6747\n",
            "Epoch [15/50], Loss: 22.8590\n",
            "Epoch [16/50], Loss: 22.0241\n",
            "Epoch [17/50], Loss: 21.1705\n",
            "Epoch [18/50], Loss: 20.2998\n",
            "Epoch [19/50], Loss: 19.4140\n",
            "Epoch [20/50], Loss: 18.5157\n",
            "Epoch [21/50], Loss: 17.6075\n",
            "Epoch [22/50], Loss: 16.6923\n",
            "Epoch [23/50], Loss: 15.7734\n",
            "Epoch [24/50], Loss: 14.8544\n",
            "Epoch [25/50], Loss: 13.9392\n",
            "Epoch [26/50], Loss: 13.0320\n",
            "Epoch [27/50], Loss: 12.1373\n",
            "Epoch [28/50], Loss: 11.2599\n",
            "Epoch [29/50], Loss: 10.4045\n",
            "Epoch [30/50], Loss: 9.5763\n",
            "Epoch [31/50], Loss: 8.7802\n",
            "Epoch [32/50], Loss: 8.0214\n",
            "Epoch [33/50], Loss: 7.3049\n",
            "Epoch [34/50], Loss: 6.6353\n",
            "Epoch [35/50], Loss: 6.0171\n",
            "Epoch [36/50], Loss: 5.4539\n",
            "Epoch [37/50], Loss: 4.9489\n",
            "Epoch [38/50], Loss: 4.5039\n",
            "Epoch [39/50], Loss: 4.1201\n",
            "Epoch [40/50], Loss: 3.7970\n",
            "Epoch [41/50], Loss: 3.5328\n",
            "Epoch [42/50], Loss: 3.3244\n",
            "Epoch [43/50], Loss: 3.1670\n",
            "Epoch [44/50], Loss: 3.0546\n",
            "Epoch [45/50], Loss: 2.9802\n",
            "Epoch [46/50], Loss: 2.9359\n",
            "Epoch [47/50], Loss: 2.9135\n",
            "Epoch [48/50], Loss: 2.9049\n",
            "Epoch [49/50], Loss: 2.9027\n",
            "Epoch [50/50], Loss: 2.9006\n"
          ]
        }
      ],
      "execution_count": null
    },
    {
      "metadata": {
        "ExecuteTime": {
          "end_time": "2024-08-18T23:00:17.995673Z",
          "start_time": "2024-08-18T23:00:17.991778Z"
        },
        "id": "890a67aa26444a91",
        "outputId": "f01881a3-1db6-4c45-a295-afed8d2fc841"
      },
      "cell_type": "code",
      "source": [
        "# 5. Avaliação do modelo\n",
        "model.eval()\n",
        "with torch.no_grad():\n",
        "    predictions = model(X_test_tensor)\n",
        "    mse_loss = criterion(predictions, y_test_tensor)\n",
        "    mae_loss = torch.mean(torch.abs(predictions - y_test_tensor))\n",
        "    print(f'Mean Squared Error on Test Set: {mse_loss.item():.4f}')\n",
        "    print(f'Mean Absolute Error on Test Set: {mae_loss.item():.4f}')"
      ],
      "id": "890a67aa26444a91",
      "outputs": [
        {
          "name": "stdout",
          "output_type": "stream",
          "text": [
            "Mean Squared Error on Test Set: 3.5642\n",
            "Mean Absolute Error on Test Set: 1.3204\n"
          ]
        }
      ],
      "execution_count": null
    },
    {
      "metadata": {
        "id": "afd07646c1e87ec4"
      },
      "cell_type": "markdown",
      "source": [
        "Implementar técnica de data augmentation SMOTE\n",
        "================================================"
      ],
      "id": "afd07646c1e87ec4"
    },
    {
      "cell_type": "markdown",
      "source": [
        "SMOTE é uma tecninca de data augmentation (criação de dados artificiais em cima de dados reais), que visa solucionar o problema de desbalanceamento de classes atravez de K-Neighbors e interpolação linear"
      ],
      "metadata": {
        "id": "jO41gSdO8NVA"
      },
      "id": "jO41gSdO8NVA"
    },
    {
      "cell_type": "markdown",
      "source": [
        "> **K-Neighbors:** Neste contexto, a primeira etapa do SMOTE é selcionar um centroide dentro da quantidade de vizinhos estipuladas se baseando em um espaço delimitado dos dados.\n",
        "\n",
        "EX: Para uma classe definida, é selecionado K-Neighbors, dentro deste limite de vizinhos, é selecionado um centroide onde será criado novas features entre ele e seus vizinhos por meio de interpolação linear.\n",
        "\n",
        "> **Interpolação Linear:** Cria novos valores entre dois ponstos assumindo que entre eles existe um epaço linearmene continuo.\n",
        "$$x_{novo}=x_a+λ(x_b-x_a)$$\n",
        "- λ corresponde a localização deste novo ponto em relação aos dois pontos;\n",
        "- λ = 0.5 o ponto fica exatamente no meio;\n",
        "- λ = 0 fica mais proximo de $x_b$, e λ = 1 mais próximo de $x_a$"
      ],
      "metadata": {
        "id": "tiCvfx6o8lK0"
      },
      "id": "tiCvfx6o8lK0"
    },
    {
      "metadata": {
        "ExecuteTime": {
          "end_time": "2024-08-19T11:35:41.151501Z",
          "start_time": "2024-08-19T11:35:40.970517Z"
        },
        "id": "607eb0673c559260"
      },
      "cell_type": "code",
      "source": [
        "from imblearn.over_sampling import SMOTE"
      ],
      "id": "607eb0673c559260",
      "outputs": [],
      "execution_count": null
    },
    {
      "metadata": {
        "ExecuteTime": {
          "end_time": "2024-08-19T11:35:42.192491Z",
          "start_time": "2024-08-19T11:35:42.189302Z"
        },
        "id": "d5eb3658a5764a14"
      },
      "cell_type": "code",
      "source": [
        "# Criar uma máscara para identificar as classes de interesse (qualidade acima de 7 e abaixo de 5)\n",
        "mask = (y > 7) | (y < 5)"
      ],
      "id": "d5eb3658a5764a14",
      "outputs": [],
      "execution_count": null
    },
    {
      "metadata": {
        "ExecuteTime": {
          "end_time": "2024-08-19T11:35:43.996310Z",
          "start_time": "2024-08-19T11:35:43.940693Z"
        },
        "id": "b291ed28f5fa373"
      },
      "cell_type": "code",
      "source": [
        "# Aplicar SMOTE para as classes minoritárias (qualidade > 7 e < 5)\n",
        "smote = SMOTE(k_neighbors=3)  # Ajustando n_neighbors para um valor menor\n",
        "X_smote, y_smote = smote.fit_resample(X[mask], y[mask])"
      ],
      "id": "b291ed28f5fa373",
      "outputs": [],
      "execution_count": null
    },
    {
      "metadata": {
        "ExecuteTime": {
          "end_time": "2024-08-19T11:35:44.943062Z",
          "start_time": "2024-08-19T11:35:44.938228Z"
        },
        "id": "36d4b92d41fde141"
      },
      "cell_type": "code",
      "source": [
        "# Combinar as amostras SMOTE com as instâncias que têm qualidade entre 5 e 7\n",
        "mask_middle = (y >= 5) & (y <= 7)\n",
        "X_final = np.vstack([X_smote, X[mask_middle]])\n",
        "y_final = np.hstack([y_smote, y[mask_middle]])"
      ],
      "id": "36d4b92d41fde141",
      "outputs": [],
      "execution_count": null
    },
    {
      "metadata": {
        "ExecuteTime": {
          "end_time": "2024-08-19T11:35:45.895919Z",
          "start_time": "2024-08-19T11:35:45.890340Z"
        },
        "id": "1a3714448af31eba",
        "outputId": "25bacc48-533f-4798-af4b-b3f17025fd08"
      },
      "cell_type": "code",
      "source": [
        "X_final"
      ],
      "id": "1a3714448af31eba",
      "outputs": [
        {
          "data": {
            "text/plain": [
              "array([[ 7.4 ,  0.59,  0.08, ...,  3.38,  0.5 ,  9.  ],\n",
              "       [ 5.7 ,  1.13,  0.09, ...,  3.5 ,  0.48,  9.8 ],\n",
              "       [ 8.8 ,  0.61,  0.3 , ...,  3.26,  0.51,  9.3 ],\n",
              "       ...,\n",
              "       [ 6.5 ,  0.24,  0.19, ...,  2.99,  0.46,  9.4 ],\n",
              "       [ 5.5 ,  0.29,  0.3 , ...,  3.34,  0.38, 12.8 ],\n",
              "       [ 6.  ,  0.21,  0.38, ...,  3.26,  0.32, 11.8 ]])"
            ]
          },
          "execution_count": 13,
          "metadata": {},
          "output_type": "execute_result"
        }
      ],
      "execution_count": null
    },
    {
      "metadata": {
        "ExecuteTime": {
          "end_time": "2024-08-18T23:00:31.485313Z",
          "start_time": "2024-08-18T23:00:31.480393Z"
        },
        "id": "69c68e365e8cde19"
      },
      "cell_type": "code",
      "source": [
        "# Dividindo os dados em conjuntos de treinamento e teste\n",
        "X_train, X_test, y_train, y_test = train_test_split(X_final, y_final, test_size=0.2, random_state=42)"
      ],
      "id": "69c68e365e8cde19",
      "outputs": [],
      "execution_count": null
    },
    {
      "metadata": {
        "ExecuteTime": {
          "end_time": "2024-08-18T23:00:34.024780Z",
          "start_time": "2024-08-18T23:00:34.017467Z"
        },
        "id": "a35660e0df4a29e7"
      },
      "cell_type": "code",
      "source": [
        "X_train = scaler.fit_transform(X_train)\n",
        "X_test = scaler.transform(X_test)"
      ],
      "id": "a35660e0df4a29e7",
      "outputs": [],
      "execution_count": null
    },
    {
      "metadata": {
        "ExecuteTime": {
          "end_time": "2024-08-18T23:00:35.062354Z",
          "start_time": "2024-08-18T23:00:35.057381Z"
        },
        "id": "7cecfaa74acd3938"
      },
      "cell_type": "code",
      "source": [
        "# Convertendo para tensores PyTorch\n",
        "X_train_tensor = torch.tensor(X_train, dtype=torch.float32)\n",
        "y_train_tensor = torch.tensor(y_train, dtype=torch.float32).view(-1, 1)\n",
        "X_test_tensor = torch.tensor(X_test, dtype=torch.float32)\n",
        "y_test_tensor = torch.tensor(y_test, dtype=torch.float32).view(-1, 1)"
      ],
      "id": "7cecfaa74acd3938",
      "outputs": [],
      "execution_count": null
    },
    {
      "metadata": {
        "ExecuteTime": {
          "end_time": "2024-08-18T23:00:37.574317Z",
          "start_time": "2024-08-18T23:00:37.415131Z"
        },
        "id": "a1aacf98a032ac06",
        "outputId": "d3c32c44-76b5-45e0-c50d-598abd027bb9"
      },
      "cell_type": "code",
      "source": [
        "# 4. Treinamento do modelo\n",
        "num_epochs = 50\n",
        "for epoch in range(num_epochs):\n",
        "    model.train()\n",
        "\n",
        "    # Forward pass\n",
        "    outputs = model(X_train_tensor)\n",
        "    loss = criterion(outputs, y_train_tensor)\n",
        "\n",
        "    # Backward pass and optimization\n",
        "    optimizer.zero_grad()\n",
        "    loss.backward()\n",
        "    optimizer.step()\n",
        "\n",
        "    print(f'Epoch [{epoch+1}/{num_epochs}], Loss: {loss.item():.4f}')"
      ],
      "id": "a1aacf98a032ac06",
      "outputs": [
        {
          "name": "stdout",
          "output_type": "stream",
          "text": [
            "Epoch [1/50], Loss: 3.7834\n",
            "Epoch [2/50], Loss: 3.7507\n",
            "Epoch [3/50], Loss: 3.7065\n",
            "Epoch [4/50], Loss: 3.6509\n",
            "Epoch [5/50], Loss: 3.5852\n",
            "Epoch [6/50], Loss: 3.5115\n",
            "Epoch [7/50], Loss: 3.4324\n",
            "Epoch [8/50], Loss: 3.3504\n",
            "Epoch [9/50], Loss: 3.2682\n",
            "Epoch [10/50], Loss: 3.1881\n",
            "Epoch [11/50], Loss: 3.1119\n",
            "Epoch [12/50], Loss: 3.0412\n",
            "Epoch [13/50], Loss: 2.9768\n",
            "Epoch [14/50], Loss: 2.9193\n",
            "Epoch [15/50], Loss: 2.8686\n",
            "Epoch [16/50], Loss: 2.8243\n",
            "Epoch [17/50], Loss: 2.7859\n",
            "Epoch [18/50], Loss: 2.7526\n",
            "Epoch [19/50], Loss: 2.7236\n",
            "Epoch [20/50], Loss: 2.6979\n",
            "Epoch [21/50], Loss: 2.6745\n",
            "Epoch [22/50], Loss: 2.6527\n",
            "Epoch [23/50], Loss: 2.6318\n",
            "Epoch [24/50], Loss: 2.6111\n",
            "Epoch [25/50], Loss: 2.5903\n",
            "Epoch [26/50], Loss: 2.5692\n",
            "Epoch [27/50], Loss: 2.5475\n",
            "Epoch [28/50], Loss: 2.5252\n",
            "Epoch [29/50], Loss: 2.5025\n",
            "Epoch [30/50], Loss: 2.4793\n",
            "Epoch [31/50], Loss: 2.4561\n",
            "Epoch [32/50], Loss: 2.4329\n",
            "Epoch [33/50], Loss: 2.4101\n",
            "Epoch [34/50], Loss: 2.3878\n",
            "Epoch [35/50], Loss: 2.3663\n",
            "Epoch [36/50], Loss: 2.3457\n",
            "Epoch [37/50], Loss: 2.3261\n",
            "Epoch [38/50], Loss: 2.3076\n",
            "Epoch [39/50], Loss: 2.2901\n",
            "Epoch [40/50], Loss: 2.2736\n",
            "Epoch [41/50], Loss: 2.2581\n",
            "Epoch [42/50], Loss: 2.2434\n",
            "Epoch [43/50], Loss: 2.2295\n",
            "Epoch [44/50], Loss: 2.2161\n",
            "Epoch [45/50], Loss: 2.2032\n",
            "Epoch [46/50], Loss: 2.1907\n",
            "Epoch [47/50], Loss: 2.1783\n",
            "Epoch [48/50], Loss: 2.1662\n",
            "Epoch [49/50], Loss: 2.1542\n",
            "Epoch [50/50], Loss: 2.1422\n"
          ]
        }
      ],
      "execution_count": null
    },
    {
      "metadata": {
        "ExecuteTime": {
          "end_time": "2024-08-18T23:00:39.683562Z",
          "start_time": "2024-08-18T23:00:39.678569Z"
        },
        "id": "d2e1fc89222b0d12",
        "outputId": "3852868d-828c-4182-f6cb-9dca2f14b4c2"
      },
      "cell_type": "code",
      "source": [
        "# 5. Avaliação do modelo\n",
        "model.eval()\n",
        "with torch.no_grad():\n",
        "    predictions = model(X_test_tensor)\n",
        "    mse_loss = criterion(predictions, y_test_tensor)\n",
        "    mae_loss = torch.mean(torch.abs(predictions - y_test_tensor))\n",
        "    print(f'Mean Squared Error on Test Set: {mse_loss.item():.4f}')\n",
        "    print(f'Mean Absolute Error on Test Set: {mae_loss.item():.4f}')"
      ],
      "id": "d2e1fc89222b0d12",
      "outputs": [
        {
          "name": "stdout",
          "output_type": "stream",
          "text": [
            "Mean Squared Error on Test Set: 2.2366\n",
            "Mean Absolute Error on Test Set: 1.1270\n"
          ]
        }
      ],
      "execution_count": null
    },
    {
      "cell_type": "markdown",
      "source": [
        "## Problematicas do SMOTE"
      ],
      "metadata": {
        "id": "qLpa7IkT-VYs"
      },
      "id": "qLpa7IkT-VYs"
    },
    {
      "cell_type": "markdown",
      "source": [
        ">Por levar em conta uma distribuição linear entre os pontos, valores com desvio padrão muito altos e que fogem de uma distribuição linear/normal, tendem a criar pontos fora da destribuição real, que não correspondem a dados reais do problema também chamados de **pontos irreais**.\n",
        "\n",
        "EX: Classes com desvio padrão muito altos tendem a criar lacunas entre os pontos, ocasionando em dados que podem estar perto ou invadindo a fronteira de outras classes, criando amostras que não condizem com a realidade da classe."
      ],
      "metadata": {
        "id": "7Mu0Q5TN-ZHP"
      },
      "id": "7Mu0Q5TN-ZHP"
    },
    {
      "metadata": {
        "id": "52e043f7fbd7b11d"
      },
      "cell_type": "markdown",
      "source": [
        "Inserir Mix-Up\n",
        "==============="
      ],
      "id": "52e043f7fbd7b11d"
    },
    {
      "cell_type": "markdown",
      "source": [
        ">Assim como no SMOTE, O Mix-Up também é uma tecnica de data augmentation e regularização, que de forma semelhante ao SMOTE, cria novos pontos a partir de um espaço linear por meio de interpolação entre duas features e distribuição Beta. Seu príncipal objetivo é criar uma mistura que incentiva novos caminhos no gradiente, evitando overfitting e minimos locais irreais.\n",
        "\n",
        "- **Interpolação Linear:** Diferente do SMOTE, onde sao feitas novas amostras a partir de classes, o Mix-Up faz a interpolação entre todos os dados do DataSet:\n",
        "$$X_{mix}=\\lambda X_a+(1-λ)X_b$$\n",
        "$$$$\n",
        "- Distribuição Beta: Mede a variabilidade de λ em relação aos valores de Beta(β) e aplpha($α$), onde α e β controlam o formato da distribuição:\n",
        "\n",
        "  - **Se** α = β = 1 → distribuição **uniforme** (todos os λ igualmente prováveis).\n",
        "  - **Se** α > 1, β > 1 → distribuição concentrada no **meio** (λ ≈ 0.5).\n",
        "  - **Se** α < 1, β < 1 → distribuição concentrada nos **extremos** (próxima de 0 ou 1).\n",
        "  - **Se** α = β → distribuição **simétrica** em torno de 0.5.\n"
      ],
      "metadata": {
        "id": "j3Zhtse4bF3q"
      },
      "id": "j3Zhtse4bF3q"
    },
    {
      "cell_type": "code",
      "source": [
        "import numpy as np\n",
        "import matplotlib.pyplot as plt\n",
        "from scipy.stats import beta\n",
        "\n",
        "# Valores de alpha e beta para comparar\n",
        "params = [(0.2, 0.2), (1, 1), (5, 5)]\n",
        "x = np.linspace(0, 1, 500)\n",
        "\n",
        "plt.figure(figsize=(8, 5))\n",
        "for a, b in params:\n",
        "    y = beta.pdf(x, a, b)\n",
        "    plt.plot(x, y, label=f'α={a}, β={b}')\n",
        "\n",
        "plt.title('Distribuição Beta para diferentes valores de α e β')\n",
        "plt.xlabel('λ (peso da interpolação)')\n",
        "plt.ylabel('Densidade de probabilidade')\n",
        "plt.legend()\n",
        "plt.grid(True)\n",
        "plt.show()"
      ],
      "metadata": {
        "colab": {
          "base_uri": "https://localhost:8080/",
          "height": 487
        },
        "id": "3GaLvfUyqSrQ",
        "outputId": "329d588d-7812-4013-d2aa-afbc89025704"
      },
      "id": "3GaLvfUyqSrQ",
      "execution_count": null,
      "outputs": [
        {
          "output_type": "display_data",
          "data": {
            "text/plain": [
              "<Figure size 800x500 with 1 Axes>"
            ],
            "image/png": "[encoded data removed]"
          },
          "metadata": {}
        }
      ]
    },
    {
      "metadata": {
        "ExecuteTime": {
          "end_time": "2024-08-19T11:37:06.781290Z",
          "start_time": "2024-08-19T11:37:06.774051Z"
        },
        "id": "41b79b59557c1be2"
      },
      "cell_type": "code",
      "source": [
        "# Função MixUp para gerar mais instâncias\n",
        "def mixup(X, y, alpha=0.2, n_samples=2):\n",
        "    X_mix = []\n",
        "    y_mix = []\n",
        "\n",
        "    for _ in range(n_samples):\n",
        "        indices = np.arange(len(X))\n",
        "        np.random.shuffle(indices)\n",
        "        X_shuffled = X[indices]\n",
        "        y_shuffled = y[indices]\n",
        "\n",
        "        lam = np.random.beta(alpha, alpha)\n",
        "\n",
        "        X_mixed = lam * X + (1 - lam) * X_shuffled\n",
        "        y_mixed = lam * y + (1 - lam) * y_shuffled\n",
        "\n",
        "        X_mix.append(X_mixed)\n",
        "        y_mix.append(y_mixed)\n",
        "\n",
        "    return np.vstack(X_mix), np.hstack(y_mix)"
      ],
      "id": "41b79b59557c1be2",
      "outputs": [],
      "execution_count": null
    },
    {
      "metadata": {
        "ExecuteTime": {
          "end_time": "2024-08-19T11:37:08.721840Z",
          "start_time": "2024-08-19T11:37:08.709798Z"
        },
        "id": "6e542014667c16f7"
      },
      "cell_type": "code",
      "source": [
        "# Aplicar MixUp dentro de cada grupo de qualidade\n",
        "X_mix = []\n",
        "y_mix = []\n",
        "\n",
        "for quality in np.unique(y_final):\n",
        "    X_group = X_final[y_final == quality]\n",
        "    y_group = y_final[y_final == quality]\n",
        "\n",
        "    X_mixed, y_mixed = mixup(X_group, y_group)\n",
        "\n",
        "    X_mix.append(X_mixed)\n",
        "    y_mix.append(y_mixed)\n",
        "\n",
        "# Combinar as amostras mixadas de volta em um único conjunto de dados\n",
        "X_combined = np.vstack(X_mix)\n",
        "y_combined = np.hstack(y_mix)"
      ],
      "id": "6e542014667c16f7",
      "outputs": [],
      "execution_count": null
    },
    {
      "metadata": {
        "ExecuteTime": {
          "end_time": "2024-08-19T11:37:10.035796Z",
          "start_time": "2024-08-19T11:37:10.029111Z"
        },
        "id": "f31de2576324d89e",
        "outputId": "5454a873-7799-4bee-fb88-0c4ebcfa09e1"
      },
      "cell_type": "code",
      "source": [
        "X_combined"
      ],
      "id": "f31de2576324d89e",
      "outputs": [
        {
          "data": {
            "text/plain": [
              "array([[1.15999898e+01, 5.80001440e-01, 6.59998310e-01, ...,\n",
              "        3.25000087e+00, 5.69999885e-01, 9.00000461e+00],\n",
              "       [1.03999920e+01, 6.10001059e-01, 4.89998949e-01, ...,\n",
              "        3.16000104e+00, 6.29999676e-01, 8.40000696e+00],\n",
              "       [7.40000044e+00, 1.18499825e+00, 6.74059100e-07, ...,\n",
              "        3.62999883e+00, 5.39999772e-01, 1.07000008e+01],\n",
              "       ...,\n",
              "       [8.58873705e+00, 2.65898629e-01, 4.51314239e-01, ...,\n",
              "        3.23882218e+00, 4.53655347e-01, 1.10372821e+01],\n",
              "       [7.91868842e+00, 3.09683859e-01, 3.86737641e-01, ...,\n",
              "        3.28642935e+00, 4.94173199e-01, 1.14573336e+01],\n",
              "       [7.50539144e+00, 2.44483210e-01, 3.79416352e-01, ...,\n",
              "        3.28219055e+00, 4.72518300e-01, 1.23718646e+01]])"
            ]
          },
          "execution_count": 16,
          "metadata": {},
          "output_type": "execute_result"
        }
      ],
      "execution_count": null
    },
    {
      "metadata": {
        "ExecuteTime": {
          "end_time": "2024-08-18T23:05:59.693079Z",
          "start_time": "2024-08-18T23:05:59.682642Z"
        },
        "id": "5df03ec22dfb0034"
      },
      "cell_type": "code",
      "source": [
        "# Dividindo os dados em conjuntos de treinamento e teste\n",
        "X_train, X_test, y_train, y_test = train_test_split(X_combined, y_combined, test_size=0.2, random_state=42)\n",
        "\n",
        "# Normalizando os dados\n",
        "scaler = StandardScaler()\n",
        "X_train = scaler.fit_transform(X_train)\n",
        "X_test = scaler.transform(X_test)\n",
        "\n",
        "# Convertendo para tensores PyTorch\n",
        "X_train_tensor = torch.tensor(X_train, dtype=torch.float32)\n",
        "y_train_tensor = torch.tensor(y_train, dtype=torch.float32).view(-1, 1)\n",
        "X_test_tensor = torch.tensor(X_test, dtype=torch.float32)\n",
        "y_test_tensor = torch.tensor(y_test, dtype=torch.float32).view(-1, 1)"
      ],
      "id": "5df03ec22dfb0034",
      "outputs": [],
      "execution_count": null
    },
    {
      "metadata": {
        "ExecuteTime": {
          "end_time": "2024-08-18T23:06:01.759559Z",
          "start_time": "2024-08-18T23:06:01.562434Z"
        },
        "id": "e0bd37f72a2b9a68",
        "outputId": "c17923c8-ae50-4656-b39e-ee463510cd90"
      },
      "cell_type": "code",
      "source": [
        "# 4. Treinamento do modelo\n",
        "num_epochs = 50\n",
        "for epoch in range(num_epochs):\n",
        "    model.train()\n",
        "\n",
        "    # Forward pass\n",
        "    outputs = model(X_train_tensor)\n",
        "    loss = criterion(outputs, y_train_tensor)\n",
        "\n",
        "    # Backward pass and optimization\n",
        "    optimizer.zero_grad()\n",
        "    loss.backward()\n",
        "    optimizer.step()\n",
        "\n",
        "    print(f'Epoch [{epoch+1}/{num_epochs}], Loss: {loss.item():.4f}')"
      ],
      "id": "e0bd37f72a2b9a68",
      "outputs": [
        {
          "name": "stdout",
          "output_type": "stream",
          "text": [
            "Epoch [1/50], Loss: 1.9539\n",
            "Epoch [2/50], Loss: 1.9432\n",
            "Epoch [3/50], Loss: 1.9326\n",
            "Epoch [4/50], Loss: 1.9220\n",
            "Epoch [5/50], Loss: 1.9115\n",
            "Epoch [6/50], Loss: 1.9011\n",
            "Epoch [7/50], Loss: 1.8909\n",
            "Epoch [8/50], Loss: 1.8808\n",
            "Epoch [9/50], Loss: 1.8710\n",
            "Epoch [10/50], Loss: 1.8613\n",
            "Epoch [11/50], Loss: 1.8519\n",
            "Epoch [12/50], Loss: 1.8427\n",
            "Epoch [13/50], Loss: 1.8337\n",
            "Epoch [14/50], Loss: 1.8249\n",
            "Epoch [15/50], Loss: 1.8163\n",
            "Epoch [16/50], Loss: 1.8078\n",
            "Epoch [17/50], Loss: 1.7994\n",
            "Epoch [18/50], Loss: 1.7911\n",
            "Epoch [19/50], Loss: 1.7829\n",
            "Epoch [20/50], Loss: 1.7749\n",
            "Epoch [21/50], Loss: 1.7668\n",
            "Epoch [22/50], Loss: 1.7589\n",
            "Epoch [23/50], Loss: 1.7511\n",
            "Epoch [24/50], Loss: 1.7433\n",
            "Epoch [25/50], Loss: 1.7356\n",
            "Epoch [26/50], Loss: 1.7280\n",
            "Epoch [27/50], Loss: 1.7205\n",
            "Epoch [28/50], Loss: 1.7130\n",
            "Epoch [29/50], Loss: 1.7057\n",
            "Epoch [30/50], Loss: 1.6984\n",
            "Epoch [31/50], Loss: 1.6912\n",
            "Epoch [32/50], Loss: 1.6841\n",
            "Epoch [33/50], Loss: 1.6771\n",
            "Epoch [34/50], Loss: 1.6702\n",
            "Epoch [35/50], Loss: 1.6633\n",
            "Epoch [36/50], Loss: 1.6565\n",
            "Epoch [37/50], Loss: 1.6498\n",
            "Epoch [38/50], Loss: 1.6431\n",
            "Epoch [39/50], Loss: 1.6365\n",
            "Epoch [40/50], Loss: 1.6299\n",
            "Epoch [41/50], Loss: 1.6234\n",
            "Epoch [42/50], Loss: 1.6169\n",
            "Epoch [43/50], Loss: 1.6105\n",
            "Epoch [44/50], Loss: 1.6041\n",
            "Epoch [45/50], Loss: 1.5977\n",
            "Epoch [46/50], Loss: 1.5914\n",
            "Epoch [47/50], Loss: 1.5852\n",
            "Epoch [48/50], Loss: 1.5789\n",
            "Epoch [49/50], Loss: 1.5727\n",
            "Epoch [50/50], Loss: 1.5666\n"
          ]
        }
      ],
      "execution_count": null
    },
    {
      "metadata": {
        "ExecuteTime": {
          "end_time": "2024-08-18T23:06:04.396042Z",
          "start_time": "2024-08-18T23:06:04.391253Z"
        },
        "id": "f691d7ca4b91862f",
        "outputId": "6e0c98bf-2787-4795-db5a-1b751746dbce"
      },
      "cell_type": "code",
      "source": [
        "# 5. Avaliação do modelo\n",
        "model.eval()\n",
        "with torch.no_grad():\n",
        "    predictions = model(X_test_tensor)\n",
        "    mse_loss = criterion(predictions, y_test_tensor)\n",
        "    mae_loss = torch.mean(torch.abs(predictions - y_test_tensor))\n",
        "    print(f'Mean Squared Error on Test Set: {mse_loss.item():.4f}')\n",
        "    print(f'Mean Absolute Error on Test Set: {mae_loss.item():.4f}')"
      ],
      "id": "f691d7ca4b91862f",
      "outputs": [
        {
          "name": "stdout",
          "output_type": "stream",
          "text": [
            "Mean Squared Error on Test Set: 1.4755\n",
            "Mean Absolute Error on Test Set: 0.9388\n"
          ]
        }
      ],
      "execution_count": null
    },
    {
      "cell_type": "markdown",
      "source": [
        "## Problematicas Mix-Up"
      ],
      "metadata": {
        "id": "APQnmmRBqXh-"
      },
      "id": "APQnmmRBqXh-"
    },
    {
      "cell_type": "markdown",
      "source": [
        "Como o príncipio do Mix-Up mistura todos dados do DataFrame, alguns requisitos devem ser atendidos antes de aplicar esta tecnica:\n",
        "\n",
        "- Classes ligeiramente balanceadas: Caso exista o desbalanceamento de classes, a interpolação entre todas as classes pode acabar por consumir as classem minoritárias, as tornando invisiveis aos olhos da rede.\n",
        "- Dependencia linear: Quando duas features tem dependencia linear, o mix-up acaba por cirar dados mistos que não seguem a regra de linearidade, criando valores não aplicaveis e irreais\n"
      ],
      "metadata": {
        "id": "_HE7ml3Cqkbw"
      },
      "id": "_HE7ml3Cqkbw"
    },
    {
      "metadata": {
        "id": "e248c39cdb9f6807"
      },
      "cell_type": "markdown",
      "source": [
        "Inserir ruído gaussiano\n",
        "======================="
      ],
      "id": "e248c39cdb9f6807"
    },
    {
      "cell_type": "markdown",
      "source": [],
      "metadata": {
        "id": "GXk1zk0JzTvx"
      },
      "id": "GXk1zk0JzTvx"
    },
    {
      "metadata": {
        "ExecuteTime": {
          "end_time": "2024-08-18T23:10:04.847598Z",
          "start_time": "2024-08-18T23:10:04.843133Z"
        },
        "id": "9822ee5d9ff955b3"
      },
      "cell_type": "code",
      "source": [
        "# Aplicar ruído gaussiano segmentado pela classe quality\n",
        "def add_gaussian_noise(X, mean=0, stddev=0.1):\n",
        "    noise = np.random.normal(mean, stddev, X.shape)\n",
        "    return X + noise"
      ],
      "id": "9822ee5d9ff955b3",
      "outputs": [],
      "execution_count": null
    },
    {
      "metadata": {
        "ExecuteTime": {
          "end_time": "2024-08-18T23:10:06.592978Z",
          "start_time": "2024-08-18T23:10:06.584113Z"
        },
        "id": "7627011df8b77b20"
      },
      "cell_type": "code",
      "source": [
        "X_noisy = []\n",
        "y_noisy = []\n",
        "\n",
        "for quality in np.unique(y_combined):\n",
        "    X_group = X_combined[y_combined == quality]\n",
        "    y_group = y_combined[y_combined == quality]\n",
        "\n",
        "    X_group_noisy = add_gaussian_noise(X_group)\n",
        "\n",
        "    X_noisy.append(X_group_noisy)\n",
        "    y_noisy.append(y_group)\n",
        "\n",
        "# Combinar as amostras com ruído de volta em um único conjunto de dados\n",
        "X_final_noisy = np.vstack([X_combined] + X_noisy)\n",
        "y_final_noisy = np.hstack([y_combined] + y_noisy)"
      ],
      "id": "7627011df8b77b20",
      "outputs": [],
      "execution_count": null
    },
    {
      "metadata": {
        "ExecuteTime": {
          "end_time": "2024-08-18T23:10:14.039680Z",
          "start_time": "2024-08-18T23:10:14.035380Z"
        },
        "id": "c0b18969d97c7e35",
        "outputId": "3c905837-eebe-4b34-c996-4fcff8b66b63"
      },
      "cell_type": "code",
      "source": [
        "X_final_noisy"
      ],
      "id": "c0b18969d97c7e35",
      "outputs": [
        {
          "data": {
            "text/plain": [
              "array([[10.3606451 ,  0.4495194 ,  0.47895105, ...,  3.15383408,\n",
              "         0.53884877,  9.35214647],\n",
              "       [ 9.69683263,  0.56804031,  0.47274674, ...,  3.13703189,\n",
              "         0.59668866,  9.06057724],\n",
              "       [ 7.38473261,  0.86763757,  0.1406929 , ...,  3.43100533,\n",
              "         0.51296999, 10.7904761 ],\n",
              "       ...,\n",
              "       [ 8.10427668,  0.14396187,  0.59156379, ...,  3.16690746,\n",
              "         0.33553317, 11.72847718],\n",
              "       [ 6.58089145,  0.25502186,  0.27525059, ...,  3.45401118,\n",
              "         0.51736464, 12.48341482],\n",
              "       [ 6.88709876,  0.41315748,  0.41099086, ...,  3.31969781,\n",
              "         0.43249432, 12.84239108]])"
            ]
          },
          "execution_count": 40,
          "metadata": {},
          "output_type": "execute_result"
        }
      ],
      "execution_count": null
    },
    {
      "metadata": {
        "ExecuteTime": {
          "end_time": "2024-08-18T23:10:36.580779Z",
          "start_time": "2024-08-18T23:10:36.568324Z"
        },
        "id": "1dcdfb689818d4c"
      },
      "cell_type": "code",
      "source": [
        "# Dividindo os dados em conjuntos de treinamento e teste\n",
        "X_train, X_test, y_train, y_test = train_test_split(X_final_noisy, y_final_noisy, test_size=0.2, random_state=42)\n",
        "\n",
        "# Normalizando os dados\n",
        "scaler = StandardScaler()\n",
        "X_train = scaler.fit_transform(X_train)\n",
        "X_test = scaler.transform(X_test)\n",
        "\n",
        "# Convertendo para tensores PyTorch\n",
        "X_train_tensor = torch.tensor(X_train, dtype=torch.float32)\n",
        "y_train_tensor = torch.tensor(y_train, dtype=torch.float32).view(-1, 1)\n",
        "X_test_tensor = torch.tensor(X_test, dtype=torch.float32)\n",
        "y_test_tensor = torch.tensor(y_test, dtype=torch.float32).view(-1, 1)"
      ],
      "id": "1dcdfb689818d4c",
      "outputs": [],
      "execution_count": null
    },
    {
      "metadata": {
        "ExecuteTime": {
          "end_time": "2024-08-18T23:11:01.946350Z",
          "start_time": "2024-08-18T23:11:01.603522Z"
        },
        "id": "803b4f863c27962c",
        "outputId": "e52d1d08-cb68-425e-cce7-059ef5df82e9"
      },
      "cell_type": "code",
      "source": [
        "# 4. Treinamento do modelo\n",
        "num_epochs = 50\n",
        "for epoch in range(num_epochs):\n",
        "    model.train()\n",
        "\n",
        "    # Forward pass\n",
        "    outputs = model(X_train_tensor)\n",
        "    loss = criterion(outputs, y_train_tensor)\n",
        "\n",
        "    # Backward pass and optimization\n",
        "    optimizer.zero_grad()\n",
        "    loss.backward()\n",
        "    optimizer.step()\n",
        "\n",
        "    print(f'Epoch [{epoch+1}/{num_epochs}], Loss: {loss.item():.4f}')"
      ],
      "id": "803b4f863c27962c",
      "outputs": [
        {
          "name": "stdout",
          "output_type": "stream",
          "text": [
            "Epoch [1/50], Loss: 2.9309\n",
            "Epoch [2/50], Loss: 2.9132\n",
            "Epoch [3/50], Loss: 2.8846\n",
            "Epoch [4/50], Loss: 2.8472\n",
            "Epoch [5/50], Loss: 2.8033\n",
            "Epoch [6/50], Loss: 2.7546\n",
            "Epoch [7/50], Loss: 2.7027\n",
            "Epoch [8/50], Loss: 2.6490\n",
            "Epoch [9/50], Loss: 2.5944\n",
            "Epoch [10/50], Loss: 2.5399\n",
            "Epoch [11/50], Loss: 2.4861\n",
            "Epoch [12/50], Loss: 2.4335\n",
            "Epoch [13/50], Loss: 2.3823\n",
            "Epoch [14/50], Loss: 2.3330\n",
            "Epoch [15/50], Loss: 2.2856\n",
            "Epoch [16/50], Loss: 2.2402\n",
            "Epoch [17/50], Loss: 2.1971\n",
            "Epoch [18/50], Loss: 2.1561\n",
            "Epoch [19/50], Loss: 2.1174\n",
            "Epoch [20/50], Loss: 2.0811\n",
            "Epoch [21/50], Loss: 2.0473\n",
            "Epoch [22/50], Loss: 2.0159\n",
            "Epoch [23/50], Loss: 1.9868\n",
            "Epoch [24/50], Loss: 1.9600\n",
            "Epoch [25/50], Loss: 1.9352\n",
            "Epoch [26/50], Loss: 1.9123\n",
            "Epoch [27/50], Loss: 1.8910\n",
            "Epoch [28/50], Loss: 1.8712\n",
            "Epoch [29/50], Loss: 1.8528\n",
            "Epoch [30/50], Loss: 1.8355\n",
            "Epoch [31/50], Loss: 1.8193\n",
            "Epoch [32/50], Loss: 1.8040\n",
            "Epoch [33/50], Loss: 1.7895\n",
            "Epoch [34/50], Loss: 1.7758\n",
            "Epoch [35/50], Loss: 1.7628\n",
            "Epoch [36/50], Loss: 1.7504\n",
            "Epoch [37/50], Loss: 1.7385\n",
            "Epoch [38/50], Loss: 1.7271\n",
            "Epoch [39/50], Loss: 1.7161\n",
            "Epoch [40/50], Loss: 1.7054\n",
            "Epoch [41/50], Loss: 1.6950\n",
            "Epoch [42/50], Loss: 1.6849\n",
            "Epoch [43/50], Loss: 1.6749\n",
            "Epoch [44/50], Loss: 1.6652\n",
            "Epoch [45/50], Loss: 1.6556\n",
            "Epoch [46/50], Loss: 1.6461\n",
            "Epoch [47/50], Loss: 1.6368\n",
            "Epoch [48/50], Loss: 1.6276\n",
            "Epoch [49/50], Loss: 1.6185\n",
            "Epoch [50/50], Loss: 1.6095\n"
          ]
        }
      ],
      "execution_count": null
    },
    {
      "metadata": {
        "ExecuteTime": {
          "end_time": "2024-08-18T23:11:04.560239Z",
          "start_time": "2024-08-18T23:11:04.556857Z"
        },
        "id": "1467fae280c0d140",
        "outputId": "6f34f7cd-2887-4d49-ba6c-541d4546b9e0"
      },
      "cell_type": "code",
      "source": [
        "# 5. Avaliação do modelo\n",
        "model.eval()\n",
        "with torch.no_grad():\n",
        "    predictions = model(X_test_tensor)\n",
        "    mse_loss = criterion(predictions, y_test_tensor)\n",
        "    mae_loss = torch.mean(torch.abs(predictions - y_test_tensor))\n",
        "    print(f'Mean Squared Error on Test Set: {mse_loss.item():.4f}')\n",
        "    print(f'Mean Absolute Error on Test Set: {mae_loss.item():.4f}')"
      ],
      "id": "1467fae280c0d140",
      "outputs": [
        {
          "name": "stdout",
          "output_type": "stream",
          "text": [
            "Mean Squared Error on Test Set: 1.5883\n",
            "Mean Absolute Error on Test Set: 0.9762\n"
          ]
        }
      ],
      "execution_count": null
    }
  ],
  "metadata": {
    "kernelspec": {
      "display_name": "Python 3",
      "language": "python",
      "name": "python3"
    },
    "language_info": {
      "codemirror_mode": {
        "name": "ipython",
        "version": 2
      },
      "file_extension": ".py",
      "mimetype": "text/x-python",
      "name": "python",
      "nbconvert_exporter": "python",
      "pygments_lexer": "ipython2",
      "version": "2.7.6"
    },
    "colab": {
      "provenance": [],
      "toc_visible": true
    }
  },
  "nbformat": 4,
  "nbformat_minor": 5
}